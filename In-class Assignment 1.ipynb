{
 "cells": [
  {
   "cell_type": "code",
   "execution_count": 70,
   "metadata": {},
   "outputs": [
    {
     "name": "stdout",
     "output_type": "stream",
     "text": [
      "James Kaka\n",
      "James Gaga\n",
      "The registered course is,  CSC102 \n",
      "You are above 16 years\n",
      "Dear James Gaga, this is to inform you that you have failed this course. Kindly ensure that you re-enroll next year.\n",
      "Pau, here we come, Pau, here we come \n",
      "Number is odd\n",
      "2 number of students have been recorded\n"
     ]
    }
   ],
   "source": [
    "class Student:\n",
    "     studentLevel = 'first year computer science 2020/2021 session'\n",
    "     studentCounter = 0\n",
    "     registeredCourse = ' csc102 '\n",
    "    \n",
    "     def __init__(self, thename, thematricno, thesex, thehostelname, theage, csc102examscore):\n",
    "         self.name = thename\n",
    "         self.matricno = thematricno\n",
    "         self.sex = thesex\n",
    "         self.hostelname = thehostelname\n",
    "         self.age = theage\n",
    "         self.csc102examscore = csc102examscore\n",
    "         Student.studentCounter = Student.studentCounter+1\n",
    "    \n",
    "     def getName(self):\n",
    "         return  self.name\n",
    "\n",
    "     def setName(self, thenewName):\n",
    "         self.name = thenewName\n",
    "\n",
    "     @staticmethod\n",
    "     def PAUNanthem():\n",
    "        print('Pau, here we come, Pau, here we come ')\n",
    "    \n",
    "     def student_age(self):\n",
    "            if self.age > 16:\n",
    "                print('You are above 16 years')\n",
    "     @classmethod\n",
    "     def Course(registration):\n",
    "        print (f\"The registered course is, {Student.registeredCourse.upper()}\")\n",
    "    \n",
    "     def Performance(self):\n",
    "            if self.csc102examscore<45:\n",
    "                print(f\"Dear {self.name}, this is to inform you that you have failed this course. Kindly ensure that you re-enroll next year.\")\n",
    "     \n",
    "     @staticmethod\n",
    "     def entry_number(number):\n",
    "            if number%2 == 0:\n",
    "                 print ('Number is even')\n",
    "            else:\n",
    "                 print('Number is odd')\n",
    "     @classmethod\n",
    "     def Counter(studnt):\n",
    "        print(f\"{Student.studentCounter} number of students have been recorded\")\n",
    "        \n",
    "    \n",
    "studendt1 = Student('James Kaka', 2107423823, 'M','Amethyst', 17, 30)\n",
    "studendt2 = Student('Sophia Ezeh',1234556564, 'F', 'Asterhall', 18, 90)\n",
    "print(studendt1.getName())\n",
    "studendt1.setName('James Gaga')\n",
    "print(studendt1.getName())\n",
    "\n",
    "studendt1.Course()\n",
    "studendt1.student_age()\n",
    "studendt1.Performance()\n",
    "Student.PAUNanthem()\n",
    "Student.entry_number(25)\n",
    "Student.Counter()"
   ]
  },
  {
   "cell_type": "code",
   "execution_count": null,
   "metadata": {},
   "outputs": [],
   "source": []
  }
 ],
 "metadata": {
  "kernelspec": {
   "display_name": "Python 3",
   "language": "python",
   "name": "python3"
  },
  "language_info": {
   "codemirror_mode": {
    "name": "ipython",
    "version": 3
   },
   "file_extension": ".py",
   "mimetype": "text/x-python",
   "name": "python",
   "nbconvert_exporter": "python",
   "pygments_lexer": "ipython3",
   "version": "3.8.5"
  }
 },
 "nbformat": 4,
 "nbformat_minor": 4
}
