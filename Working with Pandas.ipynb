{
 "cells": [
  {
   "cell_type": "code",
   "execution_count": 1,
   "metadata": {},
   "outputs": [],
   "source": [
    "import pandas"
   ]
  },
  {
   "cell_type": "code",
   "execution_count": 2,
   "metadata": {},
   "outputs": [],
   "source": [
    "RDSpend=[35,56,32,89,23,22,45,34,12]\n",
    "Adminstration = [98,76,53,34,12,12,657,88,67]\n",
    "MarketingSpend = [98,56,98,45,53,52,44,34,35]\n",
    "State = ['Spain', 'South Korea','New York','Califonia','South Korea','Spain','Georgia','India','Rome']\n",
    "Profit = [123,457,788,546,456,324,467,878,345]"
   ]
  },
  {
   "cell_type": "code",
   "execution_count": 3,
   "metadata": {},
   "outputs": [],
   "source": [
    "tabl = {'RDSpend:' :RDSpend, 'Adminstration: ' :Adminstration, 'Marketing_Spend: ' :MarketingSpend, 'State:' :State, 'Profit: ' :Profit}"
   ]
  },
  {
   "cell_type": "code",
   "execution_count": 4,
   "metadata": {},
   "outputs": [
    {
     "data": {
      "text/plain": [
       "{'RDSpend:': [35, 56, 32, 89, 23, 22, 45, 34, 12],\n",
       " 'Adminstration: ': [98, 76, 53, 34, 12, 12, 657, 88, 67],\n",
       " 'Marketing_Spend: ': [98, 56, 98, 45, 53, 52, 44, 34, 35],\n",
       " 'State:': ['Spain',\n",
       "  'South Korea',\n",
       "  'New York',\n",
       "  'Califonia',\n",
       "  'South Korea',\n",
       "  'Spain',\n",
       "  'Georgia',\n",
       "  'India',\n",
       "  'Rome'],\n",
       " 'Profit: ': [123, 457, 788, 546, 456, 324, 467, 878, 345]}"
      ]
     },
     "execution_count": 4,
     "metadata": {},
     "output_type": "execute_result"
    }
   ],
   "source": [
    "tabl"
   ]
  },
  {
   "cell_type": "code",
   "execution_count": 8,
   "metadata": {},
   "outputs": [],
   "source": [
    "tabl = pandas.DataFrame(tabl)"
   ]
  },
  {
   "cell_type": "code",
   "execution_count": 15,
   "metadata": {},
   "outputs": [
    {
     "data": {
      "text/html": [
       "<div>\n",
       "<style scoped>\n",
       "    .dataframe tbody tr th:only-of-type {\n",
       "        vertical-align: middle;\n",
       "    }\n",
       "\n",
       "    .dataframe tbody tr th {\n",
       "        vertical-align: top;\n",
       "    }\n",
       "\n",
       "    .dataframe thead th {\n",
       "        text-align: right;\n",
       "    }\n",
       "</style>\n",
       "<table border=\"1\" class=\"dataframe\">\n",
       "  <thead>\n",
       "    <tr style=\"text-align: right;\">\n",
       "      <th></th>\n",
       "      <th>RDSpend:</th>\n",
       "      <th>Adminstration:</th>\n",
       "      <th>Marketing_Spend:</th>\n",
       "      <th>State:</th>\n",
       "      <th>Profit:</th>\n",
       "    </tr>\n",
       "  </thead>\n",
       "  <tbody>\n",
       "    <tr>\n",
       "      <th>4</th>\n",
       "      <td>23</td>\n",
       "      <td>12</td>\n",
       "      <td>53</td>\n",
       "      <td>South Korea</td>\n",
       "      <td>456</td>\n",
       "    </tr>\n",
       "    <tr>\n",
       "      <th>5</th>\n",
       "      <td>22</td>\n",
       "      <td>12</td>\n",
       "      <td>52</td>\n",
       "      <td>Spain</td>\n",
       "      <td>324</td>\n",
       "    </tr>\n",
       "    <tr>\n",
       "      <th>6</th>\n",
       "      <td>45</td>\n",
       "      <td>657</td>\n",
       "      <td>44</td>\n",
       "      <td>Georgia</td>\n",
       "      <td>467</td>\n",
       "    </tr>\n",
       "    <tr>\n",
       "      <th>7</th>\n",
       "      <td>34</td>\n",
       "      <td>88</td>\n",
       "      <td>34</td>\n",
       "      <td>India</td>\n",
       "      <td>878</td>\n",
       "    </tr>\n",
       "    <tr>\n",
       "      <th>8</th>\n",
       "      <td>12</td>\n",
       "      <td>67</td>\n",
       "      <td>35</td>\n",
       "      <td>Rome</td>\n",
       "      <td>345</td>\n",
       "    </tr>\n",
       "  </tbody>\n",
       "</table>\n",
       "</div>"
      ],
      "text/plain": [
       "   RDSpend:  Adminstration:   Marketing_Spend:        State:  Profit: \n",
       "4        23               12                 53  South Korea       456\n",
       "5        22               12                 52        Spain       324\n",
       "6        45              657                 44      Georgia       467\n",
       "7        34               88                 34        India       878\n",
       "8        12               67                 35         Rome       345"
      ]
     },
     "execution_count": 15,
     "metadata": {},
     "output_type": "execute_result"
    }
   ],
   "source": [
    "tabl.tail(5)"
   ]
  },
  {
   "cell_type": "code",
   "execution_count": 10,
   "metadata": {},
   "outputs": [
    {
     "data": {
      "text/html": [
       "<div>\n",
       "<style scoped>\n",
       "    .dataframe tbody tr th:only-of-type {\n",
       "        vertical-align: middle;\n",
       "    }\n",
       "\n",
       "    .dataframe tbody tr th {\n",
       "        vertical-align: top;\n",
       "    }\n",
       "\n",
       "    .dataframe thead th {\n",
       "        text-align: right;\n",
       "    }\n",
       "</style>\n",
       "<table border=\"1\" class=\"dataframe\">\n",
       "  <thead>\n",
       "    <tr style=\"text-align: right;\">\n",
       "      <th></th>\n",
       "      <th>RDSpend:</th>\n",
       "      <th>Adminstration:</th>\n",
       "      <th>Marketing_Spend:</th>\n",
       "      <th>State:</th>\n",
       "      <th>Profit:</th>\n",
       "    </tr>\n",
       "  </thead>\n",
       "  <tbody>\n",
       "    <tr>\n",
       "      <th>0</th>\n",
       "      <td>35</td>\n",
       "      <td>98</td>\n",
       "      <td>98</td>\n",
       "      <td>Spain</td>\n",
       "      <td>123</td>\n",
       "    </tr>\n",
       "    <tr>\n",
       "      <th>1</th>\n",
       "      <td>56</td>\n",
       "      <td>76</td>\n",
       "      <td>56</td>\n",
       "      <td>South Korea</td>\n",
       "      <td>457</td>\n",
       "    </tr>\n",
       "    <tr>\n",
       "      <th>2</th>\n",
       "      <td>32</td>\n",
       "      <td>53</td>\n",
       "      <td>98</td>\n",
       "      <td>New York</td>\n",
       "      <td>788</td>\n",
       "    </tr>\n",
       "    <tr>\n",
       "      <th>3</th>\n",
       "      <td>89</td>\n",
       "      <td>34</td>\n",
       "      <td>45</td>\n",
       "      <td>Califonia</td>\n",
       "      <td>546</td>\n",
       "    </tr>\n",
       "    <tr>\n",
       "      <th>4</th>\n",
       "      <td>23</td>\n",
       "      <td>12</td>\n",
       "      <td>53</td>\n",
       "      <td>South Korea</td>\n",
       "      <td>456</td>\n",
       "    </tr>\n",
       "  </tbody>\n",
       "</table>\n",
       "</div>"
      ],
      "text/plain": [
       "   RDSpend:  Adminstration:   Marketing_Spend:        State:  Profit: \n",
       "0        35               98                 98        Spain       123\n",
       "1        56               76                 56  South Korea       457\n",
       "2        32               53                 98     New York       788\n",
       "3        89               34                 45    Califonia       546\n",
       "4        23               12                 53  South Korea       456"
      ]
     },
     "execution_count": 10,
     "metadata": {},
     "output_type": "execute_result"
    }
   ],
   "source": [
    "tabl.head(5)"
   ]
  },
  {
   "cell_type": "code",
   "execution_count": 11,
   "metadata": {},
   "outputs": [
    {
     "data": {
      "text/html": [
       "<div>\n",
       "<style scoped>\n",
       "    .dataframe tbody tr th:only-of-type {\n",
       "        vertical-align: middle;\n",
       "    }\n",
       "\n",
       "    .dataframe tbody tr th {\n",
       "        vertical-align: top;\n",
       "    }\n",
       "\n",
       "    .dataframe thead th {\n",
       "        text-align: right;\n",
       "    }\n",
       "</style>\n",
       "<table border=\"1\" class=\"dataframe\">\n",
       "  <thead>\n",
       "    <tr style=\"text-align: right;\">\n",
       "      <th></th>\n",
       "      <th>RDSpend:</th>\n",
       "      <th>Adminstration:</th>\n",
       "      <th>Marketing_Spend:</th>\n",
       "      <th>State:</th>\n",
       "      <th>Profit:</th>\n",
       "    </tr>\n",
       "  </thead>\n",
       "  <tbody>\n",
       "    <tr>\n",
       "      <th>0</th>\n",
       "      <td>35</td>\n",
       "      <td>98</td>\n",
       "      <td>98</td>\n",
       "      <td>Spain</td>\n",
       "      <td>123</td>\n",
       "    </tr>\n",
       "    <tr>\n",
       "      <th>1</th>\n",
       "      <td>56</td>\n",
       "      <td>76</td>\n",
       "      <td>56</td>\n",
       "      <td>South Korea</td>\n",
       "      <td>457</td>\n",
       "    </tr>\n",
       "    <tr>\n",
       "      <th>2</th>\n",
       "      <td>32</td>\n",
       "      <td>53</td>\n",
       "      <td>98</td>\n",
       "      <td>New York</td>\n",
       "      <td>788</td>\n",
       "    </tr>\n",
       "    <tr>\n",
       "      <th>3</th>\n",
       "      <td>89</td>\n",
       "      <td>34</td>\n",
       "      <td>45</td>\n",
       "      <td>Califonia</td>\n",
       "      <td>546</td>\n",
       "    </tr>\n",
       "    <tr>\n",
       "      <th>4</th>\n",
       "      <td>23</td>\n",
       "      <td>12</td>\n",
       "      <td>53</td>\n",
       "      <td>South Korea</td>\n",
       "      <td>456</td>\n",
       "    </tr>\n",
       "    <tr>\n",
       "      <th>5</th>\n",
       "      <td>22</td>\n",
       "      <td>12</td>\n",
       "      <td>52</td>\n",
       "      <td>Spain</td>\n",
       "      <td>324</td>\n",
       "    </tr>\n",
       "    <tr>\n",
       "      <th>6</th>\n",
       "      <td>45</td>\n",
       "      <td>657</td>\n",
       "      <td>44</td>\n",
       "      <td>Georgia</td>\n",
       "      <td>467</td>\n",
       "    </tr>\n",
       "    <tr>\n",
       "      <th>7</th>\n",
       "      <td>34</td>\n",
       "      <td>88</td>\n",
       "      <td>34</td>\n",
       "      <td>India</td>\n",
       "      <td>878</td>\n",
       "    </tr>\n",
       "    <tr>\n",
       "      <th>8</th>\n",
       "      <td>12</td>\n",
       "      <td>67</td>\n",
       "      <td>35</td>\n",
       "      <td>Rome</td>\n",
       "      <td>345</td>\n",
       "    </tr>\n",
       "  </tbody>\n",
       "</table>\n",
       "</div>"
      ],
      "text/plain": [
       "   RDSpend:  Adminstration:   Marketing_Spend:        State:  Profit: \n",
       "0        35               98                 98        Spain       123\n",
       "1        56               76                 56  South Korea       457\n",
       "2        32               53                 98     New York       788\n",
       "3        89               34                 45    Califonia       546\n",
       "4        23               12                 53  South Korea       456\n",
       "5        22               12                 52        Spain       324\n",
       "6        45              657                 44      Georgia       467\n",
       "7        34               88                 34        India       878\n",
       "8        12               67                 35         Rome       345"
      ]
     },
     "execution_count": 11,
     "metadata": {},
     "output_type": "execute_result"
    }
   ],
   "source": [
    "tabl"
   ]
  },
  {
   "cell_type": "code",
   "execution_count": 16,
   "metadata": {},
   "outputs": [
    {
     "data": {
      "text/plain": [
       "Index(['RDSpend:', 'Adminstration: ', 'Marketing_Spend: ', 'State:',\n",
       "       'Profit: '],\n",
       "      dtype='object')"
      ]
     },
     "execution_count": 16,
     "metadata": {},
     "output_type": "execute_result"
    }
   ],
   "source": [
    "tabl.columns"
   ]
  },
  {
   "cell_type": "code",
   "execution_count": 17,
   "metadata": {},
   "outputs": [],
   "source": [
    "tabl.to_excel('tabl.xlsx')"
   ]
  },
  {
   "cell_type": "code",
   "execution_count": null,
   "metadata": {},
   "outputs": [],
   "source": []
  }
 ],
 "metadata": {
  "kernelspec": {
   "display_name": "Python 3",
   "language": "python",
   "name": "python3"
  },
  "language_info": {
   "codemirror_mode": {
    "name": "ipython",
    "version": 3
   },
   "file_extension": ".py",
   "mimetype": "text/x-python",
   "name": "python",
   "nbconvert_exporter": "python",
   "pygments_lexer": "ipython3",
   "version": "3.8.5"
  }
 },
 "nbformat": 4,
 "nbformat_minor": 4
}
