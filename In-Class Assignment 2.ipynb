{
 "cells": [
  {
   "cell_type": "code",
   "execution_count": null,
   "metadata": {},
   "outputs": [
    {
     "name": "stdout",
     "output_type": "stream",
     "text": [
      "Please enter your name: s\n",
      "How many oranges would you like to purchase? 26\n",
      "26\n",
      "Hello s, the amount you entered is wrong. Please type in an amount between 1 and 25 Thank you for your patronage.\n"
     ]
    }
   ],
   "source": [
    "class Orange:\n",
    "    Customer = 0\n",
    "    def __init__(self, name, amount):\n",
    "        self.name = name\n",
    "        self.amount = amount\n",
    "        Orange.Customer = Orange.Customer+1\n",
    "        \n",
    "    def quant(self):\n",
    "        Quantity = 25\n",
    "        if self.amount > Quantity:\n",
    "            print (f'Hello {self.name}, the amount you entered is wrong. Please type in an amount between 1 and', Quantity, 'Thank you for your patronage.')\n",
    "            self.amount = int(input('How many oranges would you like to purchase? '))\n",
    "            if self.amount < Quantity:\n",
    "                cost = self.amount*100\n",
    "                print(f'Your {self.amount} oranges costs', cost, 'in total. Thank you for your Patronage')\n",
    "    \n",
    "        elif self.amount < Quantity:\n",
    "            cost = self.amount*100\n",
    "            print(f'Your {self.amount} oranges costs', cost, 'in total. Thank you for your Patronage')\n",
    "    \n",
    "        \n",
    "\n",
    "cus1 = Orange((input('Please enter your name: ')),(int(input('How many oranges would you like to purchase? ')))) \n",
    "print(cus1.amount)\n",
    "cus1.quant()\n",
    "print('Total Customers =', Orange.Customer)\n"
   ]
  },
  {
   "cell_type": "code",
   "execution_count": null,
   "metadata": {},
   "outputs": [],
   "source": []
  },
  {
   "cell_type": "code",
   "execution_count": null,
   "metadata": {},
   "outputs": [],
   "source": []
  },
  {
   "cell_type": "code",
   "execution_count": null,
   "metadata": {},
   "outputs": [],
   "source": []
  }
 ],
 "metadata": {
  "kernelspec": {
   "display_name": "Python 3",
   "language": "python",
   "name": "python3"
  },
  "language_info": {
   "codemirror_mode": {
    "name": "ipython",
    "version": 3
   },
   "file_extension": ".py",
   "mimetype": "text/x-python",
   "name": "python",
   "nbconvert_exporter": "python",
   "pygments_lexer": "ipython3",
   "version": "3.8.5"
  }
 },
 "nbformat": 4,
 "nbformat_minor": 4
}
