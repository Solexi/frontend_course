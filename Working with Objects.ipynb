{
 "cells": [
  {
   "cell_type": "code",
   "execution_count": 9,
   "metadata": {},
   "outputs": [
    {
     "name": "stdout",
     "output_type": "stream",
     "text": [
      "you now have your coffee with 2 milk, -2 sugar and 1 coffeemate\n",
      "you now have your coffee with 2 milk, 10 sugar and 1 coffeemate\n",
      "2\n",
      "you now have your coffee with 2 milk, -200 sugar and 1 coffeemate\n",
      "-200\n",
      "you now have your coffee with 2 milk, 10 sugar and 1 coffeemate\n",
      "10\n",
      "we have made 4 coffee cups so far!\n",
      "we have made 300 coffee cups so far!\n",
      "we have made 2 coffee cups so far!\n",
      "we have made 300 coffee cups so far!\n"
     ]
    }
   ],
   "source": [
    "\n",
    "class Coffee:\n",
    "    coffeeCupCounter = 0\n",
    "    def __init__(self, themilk, thesugar, thecoffeemate):\n",
    "        self.milk  = themilk\n",
    "        self.sugar = thesugar\n",
    "        self.coffeemate = thecoffeemate\n",
    "        print(f\"you now have your coffee with {self.milk} milk, {self.sugar} sugar and {self.coffeemate} coffeemate\")\n",
    "        Coffee.coffeeCupCounter= Coffee.coffeeCupCounter+1\n",
    "\n",
    "mySugarFreeCoffee = Coffee(2,-2,1)\n",
    "#print(mySugarFreeCoffee.sugar)\n",
    "myMuchSugarCoffee = Coffee(2,10,1)\n",
    "#print(myMuchSugarCoffee.sugar)\n",
    "print(Coffee.coffeeCupCounter)\n",
    "\n",
    "\n",
    "mySugarFreeCoffee = Coffee(2,-200,1)  # instantiation - object creation\n",
    "print(mySugarFreeCoffee.sugar)\n",
    "myMuchSugarCoffee = Coffee(2,10,1)\n",
    "print(myMuchSugarCoffee.sugar)  # instantiation or object creation\n",
    "print(f\"we have made {Coffee.coffeeCupCounter} coffee cups so far!\")\n",
    "Coffee.coffeeCupCounter = 300 \n",
    "print(f\"we have made {mySugarFreeCoffee.coffeeCupCounter} coffee cups so far!\")\n",
    "print(f\"we have made {myMuchSugarCoffee.milk} coffee cups so far!\")\n",
    "print(f\"we have made {myMuchSugarCoffee.coffeeCupCounter} coffee cups so far!\")\n"
   ]
  },
  {
   "cell_type": "code",
   "execution_count": null,
   "metadata": {},
   "outputs": [],
   "source": []
  }
 ],
 "metadata": {
  "kernelspec": {
   "display_name": "Python 3",
   "language": "python",
   "name": "python3"
  },
  "language_info": {
   "codemirror_mode": {
    "name": "ipython",
    "version": 3
   },
   "file_extension": ".py",
   "mimetype": "text/x-python",
   "name": "python",
   "nbconvert_exporter": "python",
   "pygments_lexer": "ipython3",
   "version": "3.8.5"
  }
 },
 "nbformat": 4,
 "nbformat_minor": 4
}
