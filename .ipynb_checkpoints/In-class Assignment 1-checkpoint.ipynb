{
 "cells": [
  {
   "cell_type": "code",
   "execution_count": 12,
   "metadata": {},
   "outputs": [
    {
     "name": "stdout",
     "output_type": "stream",
     "text": [
      "James Kaka\n",
      "James Gaga\n"
     ]
    },
    {
     "ename": "TypeError",
     "evalue": "age() missing 1 required positional argument: 'self'",
     "output_type": "error",
     "traceback": [
      "\u001b[1;31m---------------------------------------------------------------------------\u001b[0m",
      "\u001b[1;31mTypeError\u001b[0m                                 Traceback (most recent call last)",
      "\u001b[1;32m<ipython-input-12-16a0451c0198>\u001b[0m in \u001b[0;36m<module>\u001b[1;34m\u001b[0m\n\u001b[0;32m     29\u001b[0m \u001b[0mstudendt1\u001b[0m\u001b[1;33m.\u001b[0m\u001b[0msetName\u001b[0m\u001b[1;33m(\u001b[0m\u001b[1;34m'James Gaga'\u001b[0m\u001b[1;33m)\u001b[0m\u001b[1;33m\u001b[0m\u001b[1;33m\u001b[0m\u001b[0m\n\u001b[0;32m     30\u001b[0m \u001b[0mprint\u001b[0m\u001b[1;33m(\u001b[0m\u001b[0mstudendt1\u001b[0m\u001b[1;33m.\u001b[0m\u001b[0mgetName\u001b[0m\u001b[1;33m(\u001b[0m\u001b[1;33m)\u001b[0m\u001b[1;33m)\u001b[0m\u001b[1;33m\u001b[0m\u001b[1;33m\u001b[0m\u001b[0m\n\u001b[1;32m---> 31\u001b[1;33m \u001b[0mStudent\u001b[0m\u001b[1;33m.\u001b[0m\u001b[0mage\u001b[0m\u001b[1;33m(\u001b[0m\u001b[1;33m)\u001b[0m\u001b[1;33m\u001b[0m\u001b[1;33m\u001b[0m\u001b[0m\n\u001b[0m\u001b[0;32m     32\u001b[0m \u001b[0mStudent\u001b[0m\u001b[1;33m.\u001b[0m\u001b[0mPAUNanthem\u001b[0m\u001b[1;33m(\u001b[0m\u001b[1;33m)\u001b[0m\u001b[1;33m\u001b[0m\u001b[1;33m\u001b[0m\u001b[0m\n",
      "\u001b[1;31mTypeError\u001b[0m: age() missing 1 required positional argument: 'self'"
     ]
    }
   ],
   "source": [
    "class Student:\n",
    "     studentLevel = 'first year computer science 2020/2021 session'\n",
    "     studentCounter = 0\n",
    "     def __init__(self, thename, thematricno, thesex, thehostelname, theage, csc102examscore):\n",
    "         self.name = thename\n",
    "         self.matricno = thematricno\n",
    "         self.sex = thesex\n",
    "         self.hostelname = thehostelname\n",
    "         self.age = theage\n",
    "         self.csc102examscore = csc102examscore\n",
    "         Student.studentCounter = Student.studentCounter\n",
    "    \n",
    "     def getName(self):\n",
    "         return  self.name\n",
    "\n",
    "     def setName(self, thenewName):\n",
    "         self.name = thenewName\n",
    "\n",
    "     @staticmethod\n",
    "     def PAUNanthem():\n",
    "        print('Pau, here we come, Pau, here we come ')\n",
    "    \n",
    "     def age(self):\n",
    "            if self.age > 16:\n",
    "                print('You are above 16 years')\n",
    "\n",
    "studendt1 = Student('James Kaka', '021074', 'M','Amethyst',17, 90)\n",
    "print(studendt1.getName())\n",
    "studendt1.setName('James Gaga')\n",
    "print(studendt1.getName())\n",
    "tudent.age()\n",
    "Student.PAUNanthem()"
   ]
  },
  {
   "cell_type": "code",
   "execution_count": null,
   "metadata": {},
   "outputs": [],
   "source": []
  }
 ],
 "metadata": {
  "kernelspec": {
   "display_name": "Python 3",
   "language": "python",
   "name": "python3"
  },
  "language_info": {
   "codemirror_mode": {
    "name": "ipython",
    "version": 3
   },
   "file_extension": ".py",
   "mimetype": "text/x-python",
   "name": "python",
   "nbconvert_exporter": "python",
   "pygments_lexer": "ipython3",
   "version": "3.8.5"
  }
 },
 "nbformat": 4,
 "nbformat_minor": 4
}
