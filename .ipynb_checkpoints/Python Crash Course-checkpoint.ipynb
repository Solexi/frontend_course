{
 "cells": [
  {
   "cell_type": "code",
   "execution_count": null,
   "metadata": {},
   "outputs": [],
   "source": [
    "#if statement \n",
    "temperature = int(input(\"what is the temperature in celsius? \"))\n",
    "if temperature > 40:\n",
    "    print(\"it is hot outside\")\n",
    "    print(\"done\")\n",
    "    "
   ]
  },
  {
   "cell_type": "code",
   "execution_count": null,
   "metadata": {},
   "outputs": [],
   "source": [
    "#if else statement\n",
    "userName = input(\"what is your name? \")\n",
    "if userName == \"Joseph\":\n",
    "     print(\"you have a nice name.\")\n",
    "else:print(\"your name is ok.\")\n",
    "\n"
   ]
  },
  {
   "cell_type": "code",
   "execution_count": null,
   "metadata": {},
   "outputs": [],
   "source": [
    "#if else statement\n",
    "temperature = int(input(\"What is the temperature in Celsius? \"))\n",
    "if temperature > 25:\n",
    "    print(\"It is hot outside\")\n",
    "else:\n",
    "    print(\"It is not hot outside\")\n",
    "print(\"Done\")\n"
   ]
  },
  {
   "cell_type": "code",
   "execution_count": null,
   "metadata": {},
   "outputs": [],
   "source": [
    "#if...elif statement\n",
    "a = 33\n",
    "b = 33\n",
    "if b > a: \n",
    "    print(\"b is greater than a\")\n",
    "elif a == b:\n",
    "        print(\"a = b\")\n"
   ]
  },
  {
   "cell_type": "code",
   "execution_count": null,
   "metadata": {},
   "outputs": [],
   "source": [
    "#if...else...elif statement\n",
    "temperature = int(input(\"What is the temperature in Celsius?\"))\n",
    "if temperature > 90:\n",
    "    print(\"It is hot outside\")\n",
    "elif temperature < 30:\n",
    "    print(\"It is cold outside\")\n",
    "else:\n",
    "    print(\"It is not hot outside\")\n",
    "print(\"Done\")\n",
    " \n"
   ]
  },
  {
   "cell_type": "code",
   "execution_count": null,
   "metadata": {},
   "outputs": [],
   "source": [
    "x = 41\n",
    "if x > 10:\n",
    "    print(\"above ten,\")\n",
    "    if x > 20:\n",
    "        print(\"and also above 20!\")\n",
    "else:\n",
    "         print(\"but not above 20.\")"
   ]
  },
  {
   "cell_type": "code",
   "execution_count": null,
   "metadata": {},
   "outputs": [],
   "source": [
    "name = input()\n",
    "if name == \"Sophia\":\n",
    "    print(\"welcome{}\").format(name)\n",
    "else:\n",
    "        print(\"get out\")\n",
    "    \n"
   ]
  },
  {
   "cell_type": "code",
   "execution_count": null,
   "metadata": {},
   "outputs": [],
   "source": [
    "i = 0\n",
    "while i < 10:\n",
    "    print(i)\n",
    "    i = i + 1\n",
    "    \n",
    "    \n",
    "    "
   ]
  },
  {
   "cell_type": "markdown",
   "metadata": {},
   "source": [
    "### Exercise 1\n",
    "> 1. **Write a shutting down program:**<br>\n",
    ">     a. First, **def** a function, <span style=color:green;>**shut_down**</span>, that takes one argument from the keyboard.<br> \n",
    ">     b. Then, if the <span style=color:green;>**shut_down**</span>  function receives an argument equal to **<span style=color:red;>\"yes\"**</span>, it should return <span style=color:blue;>\"Shutting down\"</span>.<br>\n",
    ">     c. Alternatively, elif argument is equal to <span style=color:red;>**\"no\"**</span>, then the function should return <span style=color:blue;>\"Shutdown aborted\".</span> <br>\n",
    ">     d. Finally, if shut_down gets anything other than those inputs, the function should return <span style=color:blue;>\"Sorry, such argument not welcome here \"</span>."
   ]
  },
  {
   "cell_type": "code",
   "execution_count": null,
   "metadata": {},
   "outputs": [],
   "source": [
    "def shutdown(option):\n",
    "    if option == 'yes':\n",
    "        print ('Shutting down')\n",
    "    elif option == 'no':\n",
    "        print ('Shutdown aborted')\n",
    "    else:\n",
    "        print ('Sorry, such argument not welcome here')\n",
    "\n",
    "print(shutdown(input('yes or no:')))\n",
    "   "
   ]
  },
  {
   "cell_type": "markdown",
   "metadata": {},
   "source": [
    "### Exercise 3\n",
    "> 3. **Follow the stpes:**    \n",
    ">       a. First, def a function called **cube** that takes an argument called **number**.<br>\n",
    ">       b. Make that function return the cube of that number (i.e. that number multiplied by itself and multiplied by itself once again).<br>\n",
    ">       c. Define a second function called **by_three** that takes an argument called number. if that number is divisible by 3, **by_three** should call **cube(number)** and return its result. Otherwise, **by_three should** return False. -Check if it works.\n"
   ]
  },
  {
   "cell_type": "code",
   "execution_count": 12,
   "metadata": {},
   "outputs": [
    {
     "name": "stdout",
     "output_type": "stream",
     "text": [
      "Enter numbers to find their sum, negative numbers ends the loop\n",
      "2\n",
      "4\n",
      "5\n",
      "6\n",
      "7\n",
      "9\n",
      "-2\n",
      "Sum = 33\n"
     ]
    }
   ],
   "source": [
    "entry = 0\n",
    "sum1 = 0\n",
    "print('Enter numbers to find their sum, negative numbers ends the loop')\n",
    "while True:\n",
    "    entry = int(input())\n",
    "    if entry < 0:\n",
    "        break\n",
    "    sum1 = sum1 + entry\n",
    "print('Sum =', sum1)"
   ]
  },
  {
   "cell_type": "code",
   "execution_count": 22,
   "metadata": {},
   "outputs": [
    {
     "name": "stdout",
     "output_type": "stream",
     "text": [
      "Num has value1\n",
      "Num has value2\n",
      "Num has value4\n",
      "Num has value5\n",
      "Num has value6\n",
      "End of loop\n"
     ]
    }
   ],
   "source": [
    "num = 0\n",
    "for num in range(6):\n",
    "    num = num + 1\n",
    "    if num == 3:\n",
    "        continue\n",
    "    print('Num has value' + str(num))\n",
    "print('End of loop')\n"
   ]
  },
  {
   "cell_type": "code",
   "execution_count": 27,
   "metadata": {},
   "outputs": [
    {
     "name": "stdout",
     "output_type": "stream",
     "text": [
      "iteration 1 of outer loop\n",
      "1\n",
      "2\n",
      "out of inner loop\n",
      "iteration 2 of outer loop\n",
      "1\n",
      "2\n",
      "out of inner loop\n",
      "iteration 3 of outer loop\n",
      "1\n",
      "2\n",
      "out of inner loop\n",
      "out of outer loop\n"
     ]
    }
   ],
   "source": [
    "for var1 in range(3):\n",
    "    print('iteration ' + str(var1 + 1) + ' of outer loop')\n",
    "    for var2 in range(2):\n",
    "        print(var2 + 1)\n",
    "    print('out of inner loop')\n",
    "print ('out of outer loop')\n",
    "    \n",
    "    "
   ]
  },
  {
   "cell_type": "code",
   "execution_count": 29,
   "metadata": {},
   "outputs": [
    {
     "name": "stdout",
     "output_type": "stream",
     "text": [
      "Enter number:6\n",
      "1\n",
      "12\n",
      "123\n",
      "1234\n",
      "12345\n",
      "123456\n"
     ]
    }
   ],
   "source": [
    "num = int(input('Enter number:'))\n",
    "for i in range(1, num + 1):\n",
    "    for j in range (1, i+1):\n",
    "        print (j, end='')\n",
    "    print()"
   ]
  },
  {
   "cell_type": "markdown",
   "metadata": {},
   "source": [
    "# Strings"
   ]
  },
  {
   "cell_type": "code",
   "execution_count": 5,
   "metadata": {
    "scrolled": false
   },
   "outputs": [
    {
     "name": "stdout",
     "output_type": "stream",
     "text": [
      "Sophia Ezeh\n",
      "SOPHIA EZEH\n",
      "sophia ezeh\n"
     ]
    }
   ],
   "source": [
    "name= 'sophia ezeh'\n",
    "print(name.title())\n",
    "print(name.upper())\n",
    "print(name.lower())"
   ]
  },
  {
   "cell_type": "code",
   "execution_count": 16,
   "metadata": {},
   "outputs": [
    {
     "name": "stdout",
     "output_type": "stream",
     "text": [
      "ada lovelace\n",
      "Hello, Ada Lovelace!\n",
      "ada lovelace\n"
     ]
    }
   ],
   "source": [
    "first_name = \"ada\"\n",
    "last_name = \"lovelace\"\n",
    "full_name = f\"{first_name} {last_name}\"\n",
    "print(full_name)\n",
    "print(f\"Hello, {full_name.title()}!\")\n",
    "full_name = \"{} {}\".format(first_name, last_name)\n",
    "print(full_name)"
   ]
  },
  {
   "cell_type": "code",
   "execution_count": 48,
   "metadata": {},
   "outputs": [
    {
     "name": "stdout",
     "output_type": "stream",
     "text": [
      "Python\n",
      "\f",
      "Python\n",
      "\n",
      "Python\n",
      "\tPython\n"
     ]
    }
   ],
   "source": [
    ">>> print(\"Python\") \n",
    ">>> print(\"\\fPython\")\n",
    ">>> print(\"\\nPython\")\n",
    ">>> print(\"\\tPython\")\n",
    "\n"
   ]
  },
  {
   "cell_type": "code",
   "execution_count": 57,
   "metadata": {},
   "outputs": [
    {
     "data": {
      "text/plain": [
       "'python '"
      ]
     },
     "execution_count": 57,
     "metadata": {},
     "output_type": "execute_result"
    }
   ],
   "source": [
    "favorite_language = ' python ' \n",
    "favorite_language.lstrip()\n",
    "\n"
   ]
  },
  {
   "cell_type": "code",
   "execution_count": 56,
   "metadata": {},
   "outputs": [
    {
     "data": {
      "text/plain": [
       "' python'"
      ]
     },
     "execution_count": 56,
     "metadata": {},
     "output_type": "execute_result"
    }
   ],
   "source": [
    "favorite_language.rstrip()"
   ]
  },
  {
   "cell_type": "code",
   "execution_count": 58,
   "metadata": {},
   "outputs": [
    {
     "data": {
      "text/plain": [
       "'python'"
      ]
     },
     "execution_count": 58,
     "metadata": {},
     "output_type": "execute_result"
    }
   ],
   "source": [
    "favorite_language.strip()"
   ]
  },
  {
   "cell_type": "code",
   "execution_count": 62,
   "metadata": {},
   "outputs": [
    {
     "name": "stdout",
     "output_type": "stream",
     "text": [
      "One of Python's strengths is its diverse community.\n"
     ]
    }
   ],
   "source": [
    "message = \"One of Python's strengths is its diverse community.\" \n",
    "print(message)"
   ]
  },
  {
   "cell_type": "markdown",
   "metadata": {},
   "source": [
    "#### Exercise"
   ]
  },
  {
   "cell_type": "code",
   "execution_count": 16,
   "metadata": {},
   "outputs": [
    {
     "name": "stdout",
     "output_type": "stream",
     "text": [
      "Hello, Sophia Ezeh!, how are you doing?\n"
     ]
    }
   ],
   "source": [
    "name = 'Sophia Ezeh'\n",
    "message = f\"Hello, {name}!, how are you doing?\"\n",
    "print(message)"
   ]
  },
  {
   "cell_type": "code",
   "execution_count": 22,
   "metadata": {},
   "outputs": [
    {
     "name": "stdout",
     "output_type": "stream",
     "text": [
      "Sophia Ezeh\n",
      "SOPHIA EZEH\n",
      "sophia ezeh\n"
     ]
    }
   ],
   "source": [
    "print(name.title())\n",
    "print(name.upper())\n",
    "print(name.lower())"
   ]
  },
  {
   "cell_type": "code",
   "execution_count": 24,
   "metadata": {},
   "outputs": [
    {
     "name": "stdout",
     "output_type": "stream",
     "text": [
      "Albert Einstein once said, “A person who never made a mistake never tried anything new.”\n"
     ]
    }
   ],
   "source": [
    "print('Albert Einstein once said, “A person who never made a mistake never tried anything new.”')"
   ]
  },
  {
   "cell_type": "code",
   "execution_count": 30,
   "metadata": {},
   "outputs": [
    {
     "name": "stdout",
     "output_type": "stream",
     "text": [
      "Albert Einstein once said, \"A person who never made a mistake never tried anything new.\"\n"
     ]
    }
   ],
   "source": [
    "famous_person = 'Albert Einstein'\n",
    "message = f'{famous_person} once said, \"A person who never made a mistake never tried anything new.\"'\n",
    "print(message)"
   ]
  },
  {
   "cell_type": "code",
   "execution_count": 41,
   "metadata": {},
   "outputs": [
    {
     "name": "stdout",
     "output_type": "stream",
     "text": [
      "\tSophia Ezeh\n",
      "\n",
      "Sophia Ezeh\n"
     ]
    },
    {
     "data": {
      "text/plain": [
       "'Sophia Ezeh '"
      ]
     },
     "execution_count": 41,
     "metadata": {},
     "output_type": "execute_result"
    }
   ],
   "source": [
    "name1 = ' Sophia Ezeh '\n",
    "print('\\tSophia Ezeh')\n",
    "print('\\nSophia Ezeh')\n",
    "name1.lstrip()\n"
   ]
  },
  {
   "cell_type": "code",
   "execution_count": 38,
   "metadata": {},
   "outputs": [
    {
     "data": {
      "text/plain": [
       "' Sophia Ezeh'"
      ]
     },
     "execution_count": 38,
     "metadata": {},
     "output_type": "execute_result"
    }
   ],
   "source": [
    "name1.rstrip()"
   ]
  },
  {
   "cell_type": "code",
   "execution_count": 42,
   "metadata": {},
   "outputs": [
    {
     "data": {
      "text/plain": [
       "'Sophia Ezeh'"
      ]
     },
     "execution_count": 42,
     "metadata": {},
     "output_type": "execute_result"
    }
   ],
   "source": [
    "name1.strip()"
   ]
  },
  {
   "cell_type": "markdown",
   "metadata": {},
   "source": [
    "# Numbers"
   ]
  },
  {
   "cell_type": "code",
   "execution_count": 43,
   "metadata": {},
   "outputs": [
    {
     "data": {
      "text/plain": [
       "5"
      ]
     },
     "execution_count": 43,
     "metadata": {},
     "output_type": "execute_result"
    }
   ],
   "source": [
    "2+3"
   ]
  },
  {
   "cell_type": "code",
   "execution_count": 44,
   "metadata": {},
   "outputs": [
    {
     "data": {
      "text/plain": [
       "8"
      ]
     },
     "execution_count": 44,
     "metadata": {},
     "output_type": "execute_result"
    }
   ],
   "source": [
    "2**3"
   ]
  },
  {
   "cell_type": "code",
   "execution_count": 46,
   "metadata": {},
   "outputs": [
    {
     "name": "stdout",
     "output_type": "stream",
     "text": [
      "0\n",
      "8\n"
     ]
    }
   ],
   "source": [
    "print(2*3-(2+4))\n",
    "print(2*3-2+4)"
   ]
  },
  {
   "cell_type": "code",
   "execution_count": null,
   "metadata": {},
   "outputs": [],
   "source": [
    "0.1+0.8"
   ]
  },
  {
   "cell_type": "markdown",
   "metadata": {},
   "source": [
    "0.2+0.1"
   ]
  },
  {
   "cell_type": "code",
   "execution_count": 56,
   "metadata": {},
   "outputs": [
    {
     "name": "stdout",
     "output_type": "stream",
     "text": [
      "14000000000\n"
     ]
    }
   ],
   "source": [
    "universe_age = 14_000_000_000\n",
    "print(universe_age)"
   ]
  },
  {
   "cell_type": "code",
   "execution_count": 59,
   "metadata": {},
   "outputs": [
    {
     "name": "stdout",
     "output_type": "stream",
     "text": [
      "0 0 0\n"
     ]
    }
   ],
   "source": [
    " x, y, z = 0, 0, 0\n",
    "print(x,y,z)"
   ]
  },
  {
   "cell_type": "code",
   "execution_count": 60,
   "metadata": {},
   "outputs": [],
   "source": [
    "#capital letters indicate that the values should be kept constant.\n",
    "MAX_CONNECTIONS = 5000\n"
   ]
  },
  {
   "cell_type": "markdown",
   "metadata": {},
   "source": [
    "#### Exercise"
   ]
  },
  {
   "cell_type": "code",
   "execution_count": 63,
   "metadata": {},
   "outputs": [
    {
     "name": "stdout",
     "output_type": "stream",
     "text": [
      "8\n",
      "8\n",
      "8\n",
      "8.0\n"
     ]
    }
   ],
   "source": [
    "print(5+3)\n",
    "print(10-2)\n",
    "print(4*2)\n",
    "print(16/2)"
   ]
  },
  {
   "cell_type": "markdown",
   "metadata": {},
   "source": [
    "# The Zen of Python"
   ]
  },
  {
   "cell_type": "code",
   "execution_count": 68,
   "metadata": {},
   "outputs": [
    {
     "name": "stdout",
     "output_type": "stream",
     "text": [
      "The Zen of Python, by Tim Peters\n",
      "\n",
      "Beautiful is better than ugly.\n",
      "Explicit is better than implicit.\n",
      "Simple is better than complex.\n",
      "Complex is better than complicated.\n",
      "Flat is better than nested.\n",
      "Sparse is better than dense.\n",
      "Readability counts.\n",
      "Special cases aren't special enough to break the rules.\n",
      "Although practicality beats purity.\n",
      "Errors should never pass silently.\n",
      "Unless explicitly silenced.\n",
      "In the face of ambiguity, refuse the temptation to guess.\n",
      "There should be one-- and preferably only one --obvious way to do it.\n",
      "Although that way may not be obvious at first unless you're Dutch.\n",
      "Now is better than never.\n",
      "Although never is often better than *right* now.\n",
      "If the implementation is hard to explain, it's a bad idea.\n",
      "If the implementation is easy to explain, it may be a good idea.\n",
      "Namespaces are one honking great idea -- let's do more of those!\n"
     ]
    }
   ],
   "source": [
    "import this \n"
   ]
  },
  {
   "cell_type": "markdown",
   "metadata": {},
   "source": [
    "# Lists"
   ]
  },
  {
   "cell_type": "code",
   "execution_count": 69,
   "metadata": {},
   "outputs": [
    {
     "name": "stdout",
     "output_type": "stream",
     "text": [
      "['trek', 'cannondale', 'redline', 'specialized']\n"
     ]
    }
   ],
   "source": [
    "bicycles = ['trek', 'cannondale', 'redline', 'specialized']\n",
    "print(bicycles)"
   ]
  },
  {
   "cell_type": "code",
   "execution_count": 73,
   "metadata": {},
   "outputs": [
    {
     "name": "stdout",
     "output_type": "stream",
     "text": [
      "trek\n"
     ]
    }
   ],
   "source": [
    "print(bicycles[0])"
   ]
  },
  {
   "cell_type": "code",
   "execution_count": 75,
   "metadata": {},
   "outputs": [
    {
     "name": "stdout",
     "output_type": "stream",
     "text": [
      "Trek\n"
     ]
    }
   ],
   "source": [
    "print(bicycles[0].title())"
   ]
  },
  {
   "cell_type": "code",
   "execution_count": 86,
   "metadata": {},
   "outputs": [
    {
     "name": "stdout",
     "output_type": "stream",
     "text": [
      "trek\n",
      "specialized\n"
     ]
    }
   ],
   "source": [
    "print(bicycles[0])\n",
    "print(bicycles[3])\n"
   ]
  },
  {
   "cell_type": "code",
   "execution_count": 114,
   "metadata": {},
   "outputs": [
    {
     "name": "stdout",
     "output_type": "stream",
     "text": [
      "My first bicycle was a Cannondale.\n"
     ]
    }
   ],
   "source": [
    "message = f\"My first bicycle was a {bicycles[1].title()}.\"\n",
    "print(message)"
   ]
  },
  {
   "cell_type": "code",
   "execution_count": 109,
   "metadata": {},
   "outputs": [
    {
     "name": "stdout",
     "output_type": "stream",
     "text": [
      "Sophia\n",
      "Mary\n",
      "Sope\n",
      "Tete\n",
      "Wendy\n"
     ]
    }
   ],
   "source": [
    "Names = ['Sophia','Mary','Sope','Keisha','Tete','Wendy']\n",
    "print(Names[0])\n",
    "print(Names[1])\n",
    "print(Names[2])\n",
    "print(Names[4])\n",
    "print(Names[5])"
   ]
  },
  {
   "cell_type": "code",
   "execution_count": 122,
   "metadata": {},
   "outputs": [
    {
     "name": "stdout",
     "output_type": "stream",
     "text": [
      "Hello Sophia, Hello Mary\n"
     ]
    }
   ],
   "source": [
    "message = f\"Hello {Names[0]}, Hello {Names[1]}\"\n",
    "print(message)"
   ]
  },
  {
   "cell_type": "code",
   "execution_count": null,
   "metadata": {},
   "outputs": [],
   "source": [
    "u motorcycles = ['honda', 'yamaha', 'suzuki']\n",
    "print(motorcycles)\n",
    "v motorcycles[0] = 'ducati'\n",
    "print(motorcycles)"
   ]
  }
 ],
 "metadata": {
  "kernelspec": {
   "display_name": "Python 3",
   "language": "python",
   "name": "python3"
  },
  "language_info": {
   "codemirror_mode": {
    "name": "ipython",
    "version": 3
   },
   "file_extension": ".py",
   "mimetype": "text/x-python",
   "name": "python",
   "nbconvert_exporter": "python",
   "pygments_lexer": "ipython3",
   "version": "3.8.5"
  }
 },
 "nbformat": 4,
 "nbformat_minor": 4
}
