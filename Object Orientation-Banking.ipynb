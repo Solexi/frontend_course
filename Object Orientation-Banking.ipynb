{
 "cells": [
  {
   "cell_type": "code",
   "execution_count": 3,
   "metadata": {},
   "outputs": [
    {
     "ename": "SyntaxError",
     "evalue": "(unicode error) 'unicodeescape' codec can't decode bytes in position 2-3: truncated \\UXXXXXXXX escape (<ipython-input-3-7e0446b272de>, line 23)",
     "output_type": "error",
     "traceback": [
      "\u001b[1;36m  File \u001b[1;32m\"<ipython-input-3-7e0446b272de>\"\u001b[1;36m, line \u001b[1;32m23\u001b[0m\n\u001b[1;33m    f = open('C:\\Users\\Sophie\\Dropbox\\My PC (LAPTOP-SOQNLRHC)\\banking.txt','r')\u001b[0m\n\u001b[1;37m             ^\u001b[0m\n\u001b[1;31mSyntaxError\u001b[0m\u001b[1;31m:\u001b[0m (unicode error) 'unicodeescape' codec can't decode bytes in position 2-3: truncated \\UXXXXXXXX escape\n"
     ]
    }
   ],
   "source": [
    "class XBank:\n",
    "    loggedinCounter=0\n",
    "    def _init_(self, atmpin, accountbalance, name):\n",
    "        self.atmpin = atmpin\n",
    "        self.accountbalance = accountbalance\n",
    "        self.name = name\n",
    "        XBank.loggedinCounter = XBank.loggedinCounter + 1\n",
    "        \n",
    "    def CollectMoney(self, amounttowithdraw):\n",
    "        if amounttowithdraw > self.accountbalance:\n",
    "            print('Temporary Unavailable')\n",
    "        else:\n",
    "            print('Please, take your cash', 'Thanks for banking with XBank')\n",
    "    def ChangePin(self, newPin):\n",
    "        self.atmpin = newPin\n",
    "        print('Your pin has been changed succesfully','Thanks for banking with XBank')\n",
    "    @classmethod\n",
    "    def NoOfCutomersLoggedin(cls):\n",
    "        print('we have a total of' + str(cls.loggedinCounter)+ 'customers that have logged in here')\n",
    "        \n",
    "\n",
    "        \n",
    "f = open('C:\\Users\\Sophie\\Dropbox\\My PC (LAPTOP-SOQNLRHC)\\banking.txt','r')\n",
    "#print(f.readline())\n",
    "password = []\n",
    "accountB = []\n",
    "name = []\n",
    "breaker =  []\n",
    "for x in f:\n",
    "   breaker = x.split(' ')\n",
    "   password.append(breaker[0])\n",
    "   accountB.append(breaker[1]) \n",
    "   name.append(breaker[2])\n",
    "   break\n",
    "    \n",
    "\n",
    "print(\"enter your pin........\")\n",
    "\n",
    "pasw = input()\n",
    "\n",
    "if(pasw ==password[0]):\n",
    "    customer = XBank(password[0],accountB[0],name[0])\n",
    "else:\n",
    "    print(\"sorry your password does not match\")\n"
   ]
  },
  {
   "cell_type": "markdown",
   "metadata": {},
   "source": [
    "#### Practice\n",
    "-----"
   ]
  },
  {
   "cell_type": "markdown",
   "metadata": {},
   "source": [
    "#### Classes (blueprints) are used for more complex data structures and they contain functions that then describe the behaviour of our class.\n",
    "\n",
    "#### An instance attribute only belongs to the object and cannot be used on the whole class. A class attribute belongs to the whole class and can be used by all the objects of that class.\n"
   ]
  },
  {
   "cell_type": "code",
   "execution_count": 1,
   "metadata": {},
   "outputs": [
    {
     "name": "stdout",
     "output_type": "stream",
     "text": [
      "Sophie Junior Keyboard Magician\n",
      "Sophie is writing code...\n",
      "Sophie is writing code in Python...\n",
      "name = Sophie, age = 18, level = Junior, salary = 8000\n",
      "False\n",
      "7000\n",
      "5000\n"
     ]
    }
   ],
   "source": [
    "#class\n",
    "class SoftwareEngineer:\n",
    "    alias = 'Keyboard Magician'\n",
    "    def __init__(self, name, age, level, salary):#special method we can use to initialize the object\n",
    "    #instance variables or attribute\n",
    "        self.name = name\n",
    "        self.age = age\n",
    "        self.level = level\n",
    "        self.salary = salary\n",
    "    #instance method   \n",
    "    def code(self):\n",
    "        print(f'{self.name} is writing code...')\n",
    "    def code_in_language(self, language):\n",
    "        print(f'{self.name} is writing code in {language}...')\n",
    "    #def information(self):\n",
    "        #information = f'name = {self.name}, age = {self.age}, level = {self.level}, salary = {self.salary}'   \n",
    "        #return information\n",
    "    #dunder method\n",
    "    def __eq__(self, other):\n",
    "        return self.name == other.name and self.age == other.age\n",
    "        \n",
    "    def __str__(self):\n",
    "        information = f'name = {self.name}, age = {self.age}, level = {self.level}, salary = {self.salary}'   \n",
    "        return information\n",
    "    \n",
    "    @staticmethod\n",
    "    def entry_salary(age):\n",
    "        if age < 25:\n",
    "            #return 5000\n",
    "            print (5000)\n",
    "        elif 25<age<30 :\n",
    "            #return 7000\n",
    "            print (7000)\n",
    "        #return 9000\n",
    "        else:\n",
    "            print (9000)\n",
    "#instance(object)\n",
    "se1 = SoftwareEngineer('Sophie',18,'Junior',8000)\n",
    "se2 = SoftwareEngineer('Sophie',18,'Senior',10000)\n",
    "se3 = SoftwareEngineer('Mary',18,'Senior',12000)\n",
    "print(se1.name, se1.level, se1.alias)\n",
    "\n",
    "\n",
    "se1.code()\n",
    "se1.code_in_language('Python')\n",
    "print(se1)\n",
    "print(se1 == se2 and se1 == se3) \n",
    "\n",
    "se1.entry_salary(27)\n",
    "SoftwareEngineer.entry_salary(23)\n",
    "\n"
   ]
  },
  {
   "cell_type": "markdown",
   "metadata": {},
   "source": [
    "#### Inheritance is a method by which one class takes on the attributes and methods of another class.\n"
   ]
  },
  {
   "cell_type": "code",
   "execution_count": 2,
   "metadata": {},
   "outputs": [
    {
     "name": "stdout",
     "output_type": "stream",
     "text": [
      "Sophie 18 8000\n",
      "Sophie is coding...\n",
      "Sophie is debugging...\n",
      "Mary 18\n",
      "Mary is designing...\n",
      "Mary is drawing...\n"
     ]
    }
   ],
   "source": [
    "#inherits, extend, override\n",
    "class Employee:#base class or parent class\n",
    "    def __init__(self, name, age, salary):\n",
    "        self.name = name\n",
    "        self.age = age\n",
    "        self.salary=salary\n",
    "    def work(self):\n",
    "        print(f'{self.name} is working...')\n",
    "\n",
    "class SoftwareEngineer(Employee):#child class\n",
    "    def __init__(self, name, age, level, salary):\n",
    "        super().__init__(name, age, salary)\n",
    "        self.level= level\n",
    "    def work(self):\n",
    "        print(f'{self.name} is coding...')         \n",
    "    def debug(self):\n",
    "        print(f'{self.name} is debugging...')\n",
    "        \n",
    "class Designer(Employee):\n",
    "    def draw(self):\n",
    "        print(f'{self.name} is drawing...')\n",
    "    def work(self):\n",
    "        print(f'{self.name} is designing...')\n",
    "\n",
    "#instance\n",
    "se = SoftwareEngineer('Sophie',18, 8000,'Junior')\n",
    "print(se.name, se.age, se.level)\n",
    "se.work()\n",
    "se.debug()\n",
    "\n",
    "\n",
    "d = Designer('Mary',18, 7000)\n",
    "print(d.name, d.age)\n",
    "d.work()\n",
    "d.draw()"
   ]
  },
  {
   "cell_type": "code",
   "execution_count": null,
   "metadata": {},
   "outputs": [],
   "source": []
  }
 ],
 "metadata": {
  "kernelspec": {
   "display_name": "Python 3",
   "language": "python",
   "name": "python3"
  },
  "language_info": {
   "codemirror_mode": {
    "name": "ipython",
    "version": 3
   },
   "file_extension": ".py",
   "mimetype": "text/x-python",
   "name": "python",
   "nbconvert_exporter": "python",
   "pygments_lexer": "ipython3",
   "version": "3.8.5"
  }
 },
 "nbformat": 4,
 "nbformat_minor": 4
}
