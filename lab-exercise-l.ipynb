{
 "cells": [
  {
   "cell_type": "markdown",
   "metadata": {},
   "source": [
    "# Sophia Ezeh\n",
    "20120612210\n",
    "\n",
    "###### sophia.ezeh@pau.edu.ng\n",
    "\n"
   ]
  },
  {
   "cell_type": "markdown",
   "metadata": {},
   "source": [
    "### Exercise 1"
   ]
  },
  {
   "cell_type": "code",
   "execution_count": 12,
   "metadata": {},
   "outputs": [
    {
     "ename": "SyntaxError",
     "evalue": "invalid syntax (<ipython-input-12-2834ea749ea7>, line 2)",
     "output_type": "error",
     "traceback": [
      "\u001b[1;36m  File \u001b[1;32m\"<ipython-input-12-2834ea749ea7>\"\u001b[1;36m, line \u001b[1;32m2\u001b[0m\n\u001b[1;33m    b=a-17\u001b[0m\n\u001b[1;37m    ^\u001b[0m\n\u001b[1;31mSyntaxError\u001b[0m\u001b[1;31m:\u001b[0m invalid syntax\n"
     ]
    }
   ],
   "source": [
    "a=int(input(\"What is the value\")\n",
    "b=a-17\n",
    "if a > 17:\n",
    "    print(b*2)\n",
    "else:\n",
    "    a<17\n",
    "    print(abs(b))\n",
    "        "
   ]
  },
  {
   "cell_type": "markdown",
   "metadata": {},
   "source": [
    "### Exercise 2"
   ]
  },
  {
   "cell_type": "code",
   "execution_count": null,
   "metadata": {},
   "outputs": [],
   "source": [
    "a = int(input(\"first value is\"))\n",
    "b = int(input(\"second value is\"))\n",
    "c = int(input(\"third value is\"))\n",
    "if a==b==c:\n",
    "    total=(a+b+c)*3\n",
    "    print (total)\n",
    "else:\n",
    "    add = (a+b+c)\n",
    "    print (add)\n"
   ]
  },
  {
   "cell_type": "code",
   "execution_count": null,
   "metadata": {},
   "outputs": [],
   "source": [
    "### Exercise 3"
   ]
  },
  {
   "cell_type": "code",
   "execution_count": 6,
   "metadata": {},
   "outputs": [
    {
     "name": "stdout",
     "output_type": "stream",
     "text": [
      "first value is7\n",
      "second value is2\n",
      "True\n"
     ]
    }
   ],
   "source": [
    "a = int(input(\"first value is\"))\n",
    "b = int(input(\"second value is\"))\n",
    "add = (a+b)\n",
    "difference = (a-b)\n",
    "if a==b:\n",
    "    print (\"True\")\n",
    "elif add==5:\n",
    "    print (\"True\")\n",
    "elif difference==5:\n",
    "    print (\"True\")\n",
    "    "
   ]
  },
  {
   "cell_type": "code",
   "execution_count": null,
   "metadata": {},
   "outputs": [],
   "source": [
    "### Exercise 4"
   ]
  },
  {
   "cell_type": "code",
   "execution_count": 13,
   "metadata": {},
   "outputs": [
    {
     "name": "stdout",
     "output_type": "stream",
     "text": [
      "first value is8\n",
      "second value is3\n",
      "third value is7\n",
      "The values are 3 7 8\n"
     ]
    }
   ],
   "source": [
    "a = int(input(\"first value is\"))\n",
    "b = int(input(\"second value is\"))\n",
    "c = int(input(\"third value is\"))\n",
    "x = max(a,b,c)\n",
    "y = min(a,b,c)\n",
    "z = ((a+b+c)-x-y)\n",
    "print (\"The values are\", y,z,x)\n"
   ]
  },
  {
   "cell_type": "code",
   "execution_count": null,
   "metadata": {},
   "outputs": [],
   "source": [
    "### Exercise 5"
   ]
  },
  {
   "cell_type": "code",
   "execution_count": null,
   "metadata": {},
   "outputs": [],
   "source": [
    "a = int(input(\"What is the positive integer\"))\n",
    "\n"
   ]
  }
 ],
 "metadata": {
  "kernelspec": {
   "display_name": "Python 3",
   "language": "python",
   "name": "python3"
  },
  "language_info": {
   "codemirror_mode": {
    "name": "ipython",
    "version": 3
   },
   "file_extension": ".py",
   "mimetype": "text/x-python",
   "name": "python",
   "nbconvert_exporter": "python",
   "pygments_lexer": "ipython3",
   "version": "3.8.5"
  }
 },
 "nbformat": 4,
 "nbformat_minor": 4
}
